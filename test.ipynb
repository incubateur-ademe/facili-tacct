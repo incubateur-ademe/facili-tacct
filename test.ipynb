{
 "cells": [
  {
   "cell_type": "markdown",
   "id": "afe2a58f",
   "metadata": {},
   "source": [
    "# Simulation d'une table de facteurs de risque pour la dépression\n",
    "\n",
    "Ce notebook simule un tableau de 100 personnes avec 6 facteurs de risque (obésité, solitude, inactivité, comportement sédentaire, stress, manque de sommeil) et une colonne maladie (dépression).\n"
   ]
  },
  {
   "cell_type": "code",
   "execution_count": null,
   "id": "404bd697",
   "metadata": {},
   "outputs": [],
   "source": [
    "import numpy as np\n",
    "import pandas as pd"
   ]
  },
  {
   "cell_type": "markdown",
   "id": "b63cd6ed",
   "metadata": {},
   "source": [
    "## Définir les prévalences et les odds ratios pour chaque facteur de risque\n"
   ]
  },
  {
   "cell_type": "code",
   "execution_count": null,
   "id": "7fd9ed41",
   "metadata": {},
   "outputs": [],
   "source": [
    "# Remplacez ces valeurs par vos données médicales réelles\n",
    "prevalences = {\n",
    "    'obesite': 0.25,\n",
    "    'solitude': 0.20,\n",
    "    'inactivite': 0.30,\n",
    "    'sedentarite': 0.40,\n",
    "    'stress': 0.35,\n",
    "    'manque_sommeil': 0.28\n",
    "}\n",
    "odds_ratios = {\n",
    "    'obesite': 2.0,\n",
    "    'solitude': 2.5,\n",
    "    'inactivite': 1.8,\n",
    "    'sedentarite': 1.5,\n",
    "    'stress': 3.0,\n",
    "    'manque_sommeil': 2.2\n",
    "}"
   ]
  },
  {
   "cell_type": "markdown",
   "id": "88ed95d7",
   "metadata": {},
   "source": [
    "## Générer les facteurs de risque pour 100 personnes\n"
   ]
  },
  {
   "cell_type": "code",
   "execution_count": null,
   "id": "d8123a40",
   "metadata": {},
   "outputs": [],
   "source": [
    "n = 100\n",
    "np.random.seed(42)\n",
    "data = {rf: np.random.binomial(1, p, n) for rf, p in prevalences.items()}\n",
    "df = pd.DataFrame(data)"
   ]
  },
  {
   "cell_type": "markdown",
   "id": "d4b76ee5",
   "metadata": {},
   "source": [
    "## Calculer la probabilité de dépression pour chaque personne (modèle logistique)\n"
   ]
  },
  {
   "cell_type": "code",
   "execution_count": null,
   "id": "d85ad874",
   "metadata": {},
   "outputs": [],
   "source": [
    "# Prévalence de base de la dépression (à ajuster selon vos données)\n",
    "baseline_prevalence = 0.10\n",
    "beta0 = np.log(baseline_prevalence / (1 - baseline_prevalence))\n",
    "betas = {rf: np.log(oratio) for rf, oratio in odds_ratios.items()}\n",
    "logit = beta0\n",
    "for rf in prevalences.keys():\n",
    "    logit += df[rf] * betas[rf]\n",
    "prob = 1 / (1 + np.exp(-logit))"
   ]
  },
  {
   "cell_type": "markdown",
   "id": "e3f7f8a0",
   "metadata": {},
   "source": [
    "## Simuler la colonne dépression\n"
   ]
  },
  {
   "cell_type": "code",
   "execution_count": null,
   "id": "82d9ec5b",
   "metadata": {},
   "outputs": [],
   "source": [
    "df['depression'] = np.random.binomial(1, prob)"
   ]
  },
  {
   "cell_type": "markdown",
   "id": "d44b21e7",
   "metadata": {},
   "source": [
    "## Afficher les 10 premières lignes du tableau simulé\n"
   ]
  },
  {
   "cell_type": "code",
   "execution_count": null,
   "id": "fa3903b5",
   "metadata": {},
   "outputs": [],
   "source": [
    "df.head(10)"
   ]
  }
 ],
 "metadata": {
  "language_info": {
   "name": "python"
  }
 },
 "nbformat": 4,
 "nbformat_minor": 5
}
